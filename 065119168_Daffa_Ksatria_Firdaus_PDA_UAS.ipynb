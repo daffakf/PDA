{
  "nbformat": 4,
  "nbformat_minor": 0,
  "metadata": {
    "colab": {
      "name": "065119168_Daffa Ksatria Firdaus_PDA_UAS.ipynb",
      "provenance": [],
      "collapsed_sections": [
        "56d04Rig9T3G",
        "zrAMVubHDB-C",
        "XHweinbUUDdH",
        "w1qb-NLeaVOL"
      ],
      "authorship_tag": "ABX9TyOEUbcnuFcioqAYDv2nl184",
      "include_colab_link": true
    },
    "kernelspec": {
      "name": "python3",
      "display_name": "Python 3"
    },
    "language_info": {
      "name": "python"
    }
  },
  "cells": [
    {
      "cell_type": "markdown",
      "metadata": {
        "id": "view-in-github",
        "colab_type": "text"
      },
      "source": [
        "<a href=\"https://colab.research.google.com/github/daffakf/pda/blob/main/065119168_Daffa_Ksatria_Firdaus_PDA_UAS.ipynb\" target=\"_parent\"><img src=\"https://colab.research.google.com/assets/colab-badge.svg\" alt=\"Open In Colab\"/></a>"
      ]
    },
    {
      "cell_type": "markdown",
      "source": [
        "# Data Mining\n",
        "\n",
        "Dataset ini terdiri dari 1000 baris data dengan berbagai atributnya yang bertipe kategori dan numerik. Dataset yang digunakan bersumber dari uci, berikut linknya:\n",
        "\n",
        "https://archive.ics.uci.edu/ml/datasets/statlog+(german+credit+data)\n",
        "\n",
        "Pada notebook ini akan melakukan visualisasi data, menjelaskan central tendencies, menilai kualitas data, dan melakukan klasifikasi."
      ],
      "metadata": {
        "id": "nJcVf9jsGciz"
      }
    },
    {
      "cell_type": "code",
      "metadata": {
        "id": "_iLgfIGj8z3V"
      },
      "source": [
        "# Mengimport library\n",
        "import pandas as pd\n",
        "import numpy as np\n",
        "import seaborn as sns\n",
        "import statistics as st\n",
        "import matplotlib.pyplot as plt\n",
        "\n",
        "from sklearn import preprocessing\n",
        "%matplotlib inline\n",
        "from google.colab import data_table\n",
        "from vega_datasets import data"
      ],
      "execution_count": null,
      "outputs": []
    },
    {
      "cell_type": "code",
      "metadata": {
        "id": "Yvvc9z2M8zAo"
      },
      "source": [
        "# Load dataset diambil dari uci\n",
        "file_path = 'https://archive.ics.uci.edu/ml/machine-learning-databases/statlog/german/german.data'\n",
        "attributes = ['Status-of-existing-checking-account', 'Duration-in-month', 'Credit-history', 'Purpose', 'Credit-amount', 'Savings-account/bonds', 'Present-employment-since', 'Installment-rate-in-percentage-of-disposable income', 'Personal-status-and-sex', 'Other-debtors/guarantors', 'Present-residence-since', 'Property', 'Age-in-years', 'Other-installment-plans' , 'Housing' , 'Number-of-existing-credits-at-this-bank' , 'Job' , 'Number-of-people-being-liable-to-provide-maintenance for', 'Telephone' , 'Foreign-worker', 'Class']\n",
        "#df = pd.read_csv(\"https://raw.githubusercontent.com/daffakf/pda/main/assets/dataset/teori-uas/german.data\", delim_whitespace=True, names=attributes) # Load dataset dari github\n",
        "df = pd.read_csv(file_path, delim_whitespace=True, names=attributes)"
      ],
      "execution_count": null,
      "outputs": []
    },
    {
      "cell_type": "code",
      "source": [
        "# Menampilkan isi Dataset\n",
        "#data_table.enable_dataframe_formatter()\n",
        "data_table.disable_dataframe_formatter()\n",
        "df"
      ],
      "metadata": {
        "colab": {
          "base_uri": "https://localhost:8080/",
          "height": 519
        },
        "id": "NGTNy9c6_6n0",
        "outputId": "24c411b3-15d6-45e5-d758-fee36eed7ff7"
      },
      "execution_count": null,
      "outputs": [
        {
          "output_type": "execute_result",
          "data": {
            "text/plain": [
              "    Status-of-existing-checking-account  Duration-in-month Credit-history  \\\n",
              "0                                   A11                  6            A34   \n",
              "1                                   A12                 48            A32   \n",
              "2                                   A14                 12            A34   \n",
              "3                                   A11                 42            A32   \n",
              "4                                   A11                 24            A33   \n",
              "..                                  ...                ...            ...   \n",
              "995                                 A14                 12            A32   \n",
              "996                                 A11                 30            A32   \n",
              "997                                 A14                 12            A32   \n",
              "998                                 A11                 45            A32   \n",
              "999                                 A12                 45            A34   \n",
              "\n",
              "    Purpose  Credit-amount Savings-account/bonds Present-employment-since  \\\n",
              "0       A43           1169                   A65                      A75   \n",
              "1       A43           5951                   A61                      A73   \n",
              "2       A46           2096                   A61                      A74   \n",
              "3       A42           7882                   A61                      A74   \n",
              "4       A40           4870                   A61                      A73   \n",
              "..      ...            ...                   ...                      ...   \n",
              "995     A42           1736                   A61                      A74   \n",
              "996     A41           3857                   A61                      A73   \n",
              "997     A43            804                   A61                      A75   \n",
              "998     A43           1845                   A61                      A73   \n",
              "999     A41           4576                   A62                      A71   \n",
              "\n",
              "     Installment-rate-in-percentage-of-disposable income  \\\n",
              "0                                                    4     \n",
              "1                                                    2     \n",
              "2                                                    2     \n",
              "3                                                    2     \n",
              "4                                                    3     \n",
              "..                                                 ...     \n",
              "995                                                  3     \n",
              "996                                                  4     \n",
              "997                                                  4     \n",
              "998                                                  4     \n",
              "999                                                  3     \n",
              "\n",
              "    Personal-status-and-sex Other-debtors/guarantors  ...  Property  \\\n",
              "0                       A93                     A101  ...      A121   \n",
              "1                       A92                     A101  ...      A121   \n",
              "2                       A93                     A101  ...      A121   \n",
              "3                       A93                     A103  ...      A122   \n",
              "4                       A93                     A101  ...      A124   \n",
              "..                      ...                      ...  ...       ...   \n",
              "995                     A92                     A101  ...      A121   \n",
              "996                     A91                     A101  ...      A122   \n",
              "997                     A93                     A101  ...      A123   \n",
              "998                     A93                     A101  ...      A124   \n",
              "999                     A93                     A101  ...      A123   \n",
              "\n",
              "    Age-in-years  Other-installment-plans Housing  \\\n",
              "0             67                     A143    A152   \n",
              "1             22                     A143    A152   \n",
              "2             49                     A143    A152   \n",
              "3             45                     A143    A153   \n",
              "4             53                     A143    A153   \n",
              "..           ...                      ...     ...   \n",
              "995           31                     A143    A152   \n",
              "996           40                     A143    A152   \n",
              "997           38                     A143    A152   \n",
              "998           23                     A143    A153   \n",
              "999           27                     A143    A152   \n",
              "\n",
              "    Number-of-existing-credits-at-this-bank   Job  \\\n",
              "0                                         2  A173   \n",
              "1                                         1  A173   \n",
              "2                                         1  A172   \n",
              "3                                         1  A173   \n",
              "4                                         2  A173   \n",
              "..                                      ...   ...   \n",
              "995                                       1  A172   \n",
              "996                                       1  A174   \n",
              "997                                       1  A173   \n",
              "998                                       1  A173   \n",
              "999                                       1  A173   \n",
              "\n",
              "    Number-of-people-being-liable-to-provide-maintenance for  Telephone  \\\n",
              "0                                                    1             A192   \n",
              "1                                                    1             A191   \n",
              "2                                                    2             A191   \n",
              "3                                                    2             A191   \n",
              "4                                                    2             A191   \n",
              "..                                                 ...              ...   \n",
              "995                                                  1             A191   \n",
              "996                                                  1             A192   \n",
              "997                                                  1             A191   \n",
              "998                                                  1             A192   \n",
              "999                                                  1             A191   \n",
              "\n",
              "    Foreign-worker Class  \n",
              "0             A201     1  \n",
              "1             A201     2  \n",
              "2             A201     1  \n",
              "3             A201     1  \n",
              "4             A201     2  \n",
              "..             ...   ...  \n",
              "995           A201     1  \n",
              "996           A201     1  \n",
              "997           A201     1  \n",
              "998           A201     2  \n",
              "999           A201     1  \n",
              "\n",
              "[1000 rows x 21 columns]"
            ],
            "text/html": [
              "\n",
              "  <div id=\"df-9e638a54-20ac-4fdb-b63f-d80785b31dd6\">\n",
              "    <div class=\"colab-df-container\">\n",
              "      <div>\n",
              "<style scoped>\n",
              "    .dataframe tbody tr th:only-of-type {\n",
              "        vertical-align: middle;\n",
              "    }\n",
              "\n",
              "    .dataframe tbody tr th {\n",
              "        vertical-align: top;\n",
              "    }\n",
              "\n",
              "    .dataframe thead th {\n",
              "        text-align: right;\n",
              "    }\n",
              "</style>\n",
              "<table border=\"1\" class=\"dataframe\">\n",
              "  <thead>\n",
              "    <tr style=\"text-align: right;\">\n",
              "      <th></th>\n",
              "      <th>Status-of-existing-checking-account</th>\n",
              "      <th>Duration-in-month</th>\n",
              "      <th>Credit-history</th>\n",
              "      <th>Purpose</th>\n",
              "      <th>Credit-amount</th>\n",
              "      <th>Savings-account/bonds</th>\n",
              "      <th>Present-employment-since</th>\n",
              "      <th>Installment-rate-in-percentage-of-disposable income</th>\n",
              "      <th>Personal-status-and-sex</th>\n",
              "      <th>Other-debtors/guarantors</th>\n",
              "      <th>...</th>\n",
              "      <th>Property</th>\n",
              "      <th>Age-in-years</th>\n",
              "      <th>Other-installment-plans</th>\n",
              "      <th>Housing</th>\n",
              "      <th>Number-of-existing-credits-at-this-bank</th>\n",
              "      <th>Job</th>\n",
              "      <th>Number-of-people-being-liable-to-provide-maintenance for</th>\n",
              "      <th>Telephone</th>\n",
              "      <th>Foreign-worker</th>\n",
              "      <th>Class</th>\n",
              "    </tr>\n",
              "  </thead>\n",
              "  <tbody>\n",
              "    <tr>\n",
              "      <th>0</th>\n",
              "      <td>A11</td>\n",
              "      <td>6</td>\n",
              "      <td>A34</td>\n",
              "      <td>A43</td>\n",
              "      <td>1169</td>\n",
              "      <td>A65</td>\n",
              "      <td>A75</td>\n",
              "      <td>4</td>\n",
              "      <td>A93</td>\n",
              "      <td>A101</td>\n",
              "      <td>...</td>\n",
              "      <td>A121</td>\n",
              "      <td>67</td>\n",
              "      <td>A143</td>\n",
              "      <td>A152</td>\n",
              "      <td>2</td>\n",
              "      <td>A173</td>\n",
              "      <td>1</td>\n",
              "      <td>A192</td>\n",
              "      <td>A201</td>\n",
              "      <td>1</td>\n",
              "    </tr>\n",
              "    <tr>\n",
              "      <th>1</th>\n",
              "      <td>A12</td>\n",
              "      <td>48</td>\n",
              "      <td>A32</td>\n",
              "      <td>A43</td>\n",
              "      <td>5951</td>\n",
              "      <td>A61</td>\n",
              "      <td>A73</td>\n",
              "      <td>2</td>\n",
              "      <td>A92</td>\n",
              "      <td>A101</td>\n",
              "      <td>...</td>\n",
              "      <td>A121</td>\n",
              "      <td>22</td>\n",
              "      <td>A143</td>\n",
              "      <td>A152</td>\n",
              "      <td>1</td>\n",
              "      <td>A173</td>\n",
              "      <td>1</td>\n",
              "      <td>A191</td>\n",
              "      <td>A201</td>\n",
              "      <td>2</td>\n",
              "    </tr>\n",
              "    <tr>\n",
              "      <th>2</th>\n",
              "      <td>A14</td>\n",
              "      <td>12</td>\n",
              "      <td>A34</td>\n",
              "      <td>A46</td>\n",
              "      <td>2096</td>\n",
              "      <td>A61</td>\n",
              "      <td>A74</td>\n",
              "      <td>2</td>\n",
              "      <td>A93</td>\n",
              "      <td>A101</td>\n",
              "      <td>...</td>\n",
              "      <td>A121</td>\n",
              "      <td>49</td>\n",
              "      <td>A143</td>\n",
              "      <td>A152</td>\n",
              "      <td>1</td>\n",
              "      <td>A172</td>\n",
              "      <td>2</td>\n",
              "      <td>A191</td>\n",
              "      <td>A201</td>\n",
              "      <td>1</td>\n",
              "    </tr>\n",
              "    <tr>\n",
              "      <th>3</th>\n",
              "      <td>A11</td>\n",
              "      <td>42</td>\n",
              "      <td>A32</td>\n",
              "      <td>A42</td>\n",
              "      <td>7882</td>\n",
              "      <td>A61</td>\n",
              "      <td>A74</td>\n",
              "      <td>2</td>\n",
              "      <td>A93</td>\n",
              "      <td>A103</td>\n",
              "      <td>...</td>\n",
              "      <td>A122</td>\n",
              "      <td>45</td>\n",
              "      <td>A143</td>\n",
              "      <td>A153</td>\n",
              "      <td>1</td>\n",
              "      <td>A173</td>\n",
              "      <td>2</td>\n",
              "      <td>A191</td>\n",
              "      <td>A201</td>\n",
              "      <td>1</td>\n",
              "    </tr>\n",
              "    <tr>\n",
              "      <th>4</th>\n",
              "      <td>A11</td>\n",
              "      <td>24</td>\n",
              "      <td>A33</td>\n",
              "      <td>A40</td>\n",
              "      <td>4870</td>\n",
              "      <td>A61</td>\n",
              "      <td>A73</td>\n",
              "      <td>3</td>\n",
              "      <td>A93</td>\n",
              "      <td>A101</td>\n",
              "      <td>...</td>\n",
              "      <td>A124</td>\n",
              "      <td>53</td>\n",
              "      <td>A143</td>\n",
              "      <td>A153</td>\n",
              "      <td>2</td>\n",
              "      <td>A173</td>\n",
              "      <td>2</td>\n",
              "      <td>A191</td>\n",
              "      <td>A201</td>\n",
              "      <td>2</td>\n",
              "    </tr>\n",
              "    <tr>\n",
              "      <th>...</th>\n",
              "      <td>...</td>\n",
              "      <td>...</td>\n",
              "      <td>...</td>\n",
              "      <td>...</td>\n",
              "      <td>...</td>\n",
              "      <td>...</td>\n",
              "      <td>...</td>\n",
              "      <td>...</td>\n",
              "      <td>...</td>\n",
              "      <td>...</td>\n",
              "      <td>...</td>\n",
              "      <td>...</td>\n",
              "      <td>...</td>\n",
              "      <td>...</td>\n",
              "      <td>...</td>\n",
              "      <td>...</td>\n",
              "      <td>...</td>\n",
              "      <td>...</td>\n",
              "      <td>...</td>\n",
              "      <td>...</td>\n",
              "      <td>...</td>\n",
              "    </tr>\n",
              "    <tr>\n",
              "      <th>995</th>\n",
              "      <td>A14</td>\n",
              "      <td>12</td>\n",
              "      <td>A32</td>\n",
              "      <td>A42</td>\n",
              "      <td>1736</td>\n",
              "      <td>A61</td>\n",
              "      <td>A74</td>\n",
              "      <td>3</td>\n",
              "      <td>A92</td>\n",
              "      <td>A101</td>\n",
              "      <td>...</td>\n",
              "      <td>A121</td>\n",
              "      <td>31</td>\n",
              "      <td>A143</td>\n",
              "      <td>A152</td>\n",
              "      <td>1</td>\n",
              "      <td>A172</td>\n",
              "      <td>1</td>\n",
              "      <td>A191</td>\n",
              "      <td>A201</td>\n",
              "      <td>1</td>\n",
              "    </tr>\n",
              "    <tr>\n",
              "      <th>996</th>\n",
              "      <td>A11</td>\n",
              "      <td>30</td>\n",
              "      <td>A32</td>\n",
              "      <td>A41</td>\n",
              "      <td>3857</td>\n",
              "      <td>A61</td>\n",
              "      <td>A73</td>\n",
              "      <td>4</td>\n",
              "      <td>A91</td>\n",
              "      <td>A101</td>\n",
              "      <td>...</td>\n",
              "      <td>A122</td>\n",
              "      <td>40</td>\n",
              "      <td>A143</td>\n",
              "      <td>A152</td>\n",
              "      <td>1</td>\n",
              "      <td>A174</td>\n",
              "      <td>1</td>\n",
              "      <td>A192</td>\n",
              "      <td>A201</td>\n",
              "      <td>1</td>\n",
              "    </tr>\n",
              "    <tr>\n",
              "      <th>997</th>\n",
              "      <td>A14</td>\n",
              "      <td>12</td>\n",
              "      <td>A32</td>\n",
              "      <td>A43</td>\n",
              "      <td>804</td>\n",
              "      <td>A61</td>\n",
              "      <td>A75</td>\n",
              "      <td>4</td>\n",
              "      <td>A93</td>\n",
              "      <td>A101</td>\n",
              "      <td>...</td>\n",
              "      <td>A123</td>\n",
              "      <td>38</td>\n",
              "      <td>A143</td>\n",
              "      <td>A152</td>\n",
              "      <td>1</td>\n",
              "      <td>A173</td>\n",
              "      <td>1</td>\n",
              "      <td>A191</td>\n",
              "      <td>A201</td>\n",
              "      <td>1</td>\n",
              "    </tr>\n",
              "    <tr>\n",
              "      <th>998</th>\n",
              "      <td>A11</td>\n",
              "      <td>45</td>\n",
              "      <td>A32</td>\n",
              "      <td>A43</td>\n",
              "      <td>1845</td>\n",
              "      <td>A61</td>\n",
              "      <td>A73</td>\n",
              "      <td>4</td>\n",
              "      <td>A93</td>\n",
              "      <td>A101</td>\n",
              "      <td>...</td>\n",
              "      <td>A124</td>\n",
              "      <td>23</td>\n",
              "      <td>A143</td>\n",
              "      <td>A153</td>\n",
              "      <td>1</td>\n",
              "      <td>A173</td>\n",
              "      <td>1</td>\n",
              "      <td>A192</td>\n",
              "      <td>A201</td>\n",
              "      <td>2</td>\n",
              "    </tr>\n",
              "    <tr>\n",
              "      <th>999</th>\n",
              "      <td>A12</td>\n",
              "      <td>45</td>\n",
              "      <td>A34</td>\n",
              "      <td>A41</td>\n",
              "      <td>4576</td>\n",
              "      <td>A62</td>\n",
              "      <td>A71</td>\n",
              "      <td>3</td>\n",
              "      <td>A93</td>\n",
              "      <td>A101</td>\n",
              "      <td>...</td>\n",
              "      <td>A123</td>\n",
              "      <td>27</td>\n",
              "      <td>A143</td>\n",
              "      <td>A152</td>\n",
              "      <td>1</td>\n",
              "      <td>A173</td>\n",
              "      <td>1</td>\n",
              "      <td>A191</td>\n",
              "      <td>A201</td>\n",
              "      <td>1</td>\n",
              "    </tr>\n",
              "  </tbody>\n",
              "</table>\n",
              "<p>1000 rows × 21 columns</p>\n",
              "</div>\n",
              "      <button class=\"colab-df-convert\" onclick=\"convertToInteractive('df-9e638a54-20ac-4fdb-b63f-d80785b31dd6')\"\n",
              "              title=\"Convert this dataframe to an interactive table.\"\n",
              "              style=\"display:none;\">\n",
              "        \n",
              "  <svg xmlns=\"http://www.w3.org/2000/svg\" height=\"24px\"viewBox=\"0 0 24 24\"\n",
              "       width=\"24px\">\n",
              "    <path d=\"M0 0h24v24H0V0z\" fill=\"none\"/>\n",
              "    <path d=\"M18.56 5.44l.94 2.06.94-2.06 2.06-.94-2.06-.94-.94-2.06-.94 2.06-2.06.94zm-11 1L8.5 8.5l.94-2.06 2.06-.94-2.06-.94L8.5 2.5l-.94 2.06-2.06.94zm10 10l.94 2.06.94-2.06 2.06-.94-2.06-.94-.94-2.06-.94 2.06-2.06.94z\"/><path d=\"M17.41 7.96l-1.37-1.37c-.4-.4-.92-.59-1.43-.59-.52 0-1.04.2-1.43.59L10.3 9.45l-7.72 7.72c-.78.78-.78 2.05 0 2.83L4 21.41c.39.39.9.59 1.41.59.51 0 1.02-.2 1.41-.59l7.78-7.78 2.81-2.81c.8-.78.8-2.07 0-2.86zM5.41 20L4 18.59l7.72-7.72 1.47 1.35L5.41 20z\"/>\n",
              "  </svg>\n",
              "      </button>\n",
              "      \n",
              "  <style>\n",
              "    .colab-df-container {\n",
              "      display:flex;\n",
              "      flex-wrap:wrap;\n",
              "      gap: 12px;\n",
              "    }\n",
              "\n",
              "    .colab-df-convert {\n",
              "      background-color: #E8F0FE;\n",
              "      border: none;\n",
              "      border-radius: 50%;\n",
              "      cursor: pointer;\n",
              "      display: none;\n",
              "      fill: #1967D2;\n",
              "      height: 32px;\n",
              "      padding: 0 0 0 0;\n",
              "      width: 32px;\n",
              "    }\n",
              "\n",
              "    .colab-df-convert:hover {\n",
              "      background-color: #E2EBFA;\n",
              "      box-shadow: 0px 1px 2px rgba(60, 64, 67, 0.3), 0px 1px 3px 1px rgba(60, 64, 67, 0.15);\n",
              "      fill: #174EA6;\n",
              "    }\n",
              "\n",
              "    [theme=dark] .colab-df-convert {\n",
              "      background-color: #3B4455;\n",
              "      fill: #D2E3FC;\n",
              "    }\n",
              "\n",
              "    [theme=dark] .colab-df-convert:hover {\n",
              "      background-color: #434B5C;\n",
              "      box-shadow: 0px 1px 3px 1px rgba(0, 0, 0, 0.15);\n",
              "      filter: drop-shadow(0px 1px 2px rgba(0, 0, 0, 0.3));\n",
              "      fill: #FFFFFF;\n",
              "    }\n",
              "  </style>\n",
              "\n",
              "      <script>\n",
              "        const buttonEl =\n",
              "          document.querySelector('#df-9e638a54-20ac-4fdb-b63f-d80785b31dd6 button.colab-df-convert');\n",
              "        buttonEl.style.display =\n",
              "          google.colab.kernel.accessAllowed ? 'block' : 'none';\n",
              "\n",
              "        async function convertToInteractive(key) {\n",
              "          const element = document.querySelector('#df-9e638a54-20ac-4fdb-b63f-d80785b31dd6');\n",
              "          const dataTable =\n",
              "            await google.colab.kernel.invokeFunction('convertToInteractive',\n",
              "                                                     [key], {});\n",
              "          if (!dataTable) return;\n",
              "\n",
              "          const docLinkHtml = 'Like what you see? Visit the ' +\n",
              "            '<a target=\"_blank\" href=https://colab.research.google.com/notebooks/data_table.ipynb>data table notebook</a>'\n",
              "            + ' to learn more about interactive tables.';\n",
              "          element.innerHTML = '';\n",
              "          dataTable['output_type'] = 'display_data';\n",
              "          await google.colab.output.renderOutput(dataTable, element);\n",
              "          const docLink = document.createElement('div');\n",
              "          docLink.innerHTML = docLinkHtml;\n",
              "          element.appendChild(docLink);\n",
              "        }\n",
              "      </script>\n",
              "    </div>\n",
              "  </div>\n",
              "  "
            ]
          },
          "metadata": {},
          "execution_count": 3
        }
      ]
    },
    {
      "cell_type": "code",
      "source": [
        "# Menampilkan/mengecek dataset (dtype dan lain-lain)\n",
        "df.info()"
      ],
      "metadata": {
        "colab": {
          "base_uri": "https://localhost:8080/"
        },
        "id": "vxrLtHwL_Xm_",
        "outputId": "8a99a7ba-ca1b-4ac9-f48b-adb6826b765d"
      },
      "execution_count": null,
      "outputs": [
        {
          "output_type": "stream",
          "name": "stdout",
          "text": [
            "<class 'pandas.core.frame.DataFrame'>\n",
            "RangeIndex: 1000 entries, 0 to 999\n",
            "Data columns (total 21 columns):\n",
            " #   Column                                                    Non-Null Count  Dtype \n",
            "---  ------                                                    --------------  ----- \n",
            " 0   Status-of-existing-checking-account                       1000 non-null   object\n",
            " 1   Duration-in-month                                         1000 non-null   int64 \n",
            " 2   Credit-history                                            1000 non-null   object\n",
            " 3   Purpose                                                   1000 non-null   object\n",
            " 4   Credit-amount                                             1000 non-null   int64 \n",
            " 5   Savings-account/bonds                                     1000 non-null   object\n",
            " 6   Present-employment-since                                  1000 non-null   object\n",
            " 7   Installment-rate-in-percentage-of-disposable income       1000 non-null   int64 \n",
            " 8   Personal-status-and-sex                                   1000 non-null   object\n",
            " 9   Other-debtors/guarantors                                  1000 non-null   object\n",
            " 10  Present-residence-since                                   1000 non-null   int64 \n",
            " 11  Property                                                  1000 non-null   object\n",
            " 12  Age-in-years                                              1000 non-null   int64 \n",
            " 13  Other-installment-plans                                   1000 non-null   object\n",
            " 14  Housing                                                   1000 non-null   object\n",
            " 15  Number-of-existing-credits-at-this-bank                   1000 non-null   int64 \n",
            " 16  Job                                                       1000 non-null   object\n",
            " 17  Number-of-people-being-liable-to-provide-maintenance for  1000 non-null   int64 \n",
            " 18  Telephone                                                 1000 non-null   object\n",
            " 19  Foreign-worker                                            1000 non-null   object\n",
            " 20  Class                                                     1000 non-null   int64 \n",
            "dtypes: int64(8), object(13)\n",
            "memory usage: 164.2+ KB\n"
          ]
        }
      ]
    },
    {
      "cell_type": "code",
      "source": [
        "df.keys()"
      ],
      "metadata": {
        "colab": {
          "base_uri": "https://localhost:8080/"
        },
        "id": "8vcLSh-5_bqS",
        "outputId": "bea74582-a2ac-4972-927b-9e8a98cd22ed"
      },
      "execution_count": null,
      "outputs": [
        {
          "output_type": "execute_result",
          "data": {
            "text/plain": [
              "Index(['Status-of-existing-checking-account', 'Duration-in-month',\n",
              "       'Credit-history', 'Purpose', 'Credit-amount', 'Savings-account/bonds',\n",
              "       'Present-employment-since',\n",
              "       'Installment-rate-in-percentage-of-disposable income',\n",
              "       'Personal-status-and-sex', 'Other-debtors/guarantors',\n",
              "       'Present-residence-since', 'Property', 'Age-in-years',\n",
              "       'Other-installment-plans', 'Housing',\n",
              "       'Number-of-existing-credits-at-this-bank', 'Job',\n",
              "       'Number-of-people-being-liable-to-provide-maintenance for', 'Telephone',\n",
              "       'Foreign-worker', 'Class'],\n",
              "      dtype='object')"
            ]
          },
          "metadata": {},
          "execution_count": 5
        }
      ]
    },
    {
      "cell_type": "markdown",
      "source": [
        "# **Visualisasi Data**\n",
        "Terdapat 21 kolom/atribut (1 kolom class), tetapi visualisasi dilakukan hanya pada atribut dengan tipe data numerik (int). Visualisasi dilakukan dengan diagram batang (histogram) pada atribut:\n",
        "* Duration-in-month.\n",
        "* Credit-amount.\n",
        "* Installment-rate-in-percentage-of-disposable income.\n",
        "* Present-residence-since.\n",
        "* Age-in-years.\n",
        "* Number-of-existing-credits-at-this-bank.\n",
        "* Number-of-people-being-liable-to-provide-maintenance for.\n",
        "* Class.\n",
        "\n"
      ],
      "metadata": {
        "id": "56d04Rig9T3G"
      }
    },
    {
      "cell_type": "code",
      "source": [
        "df.hist()"
      ],
      "metadata": {
        "colab": {
          "base_uri": "https://localhost:8080/",
          "height": 454
        },
        "id": "5V886Iwh-Fa_",
        "outputId": "27096e47-56b1-4f6e-ea5a-6a6d500771fc"
      },
      "execution_count": null,
      "outputs": [
        {
          "output_type": "execute_result",
          "data": {
            "text/plain": [
              "array([[<matplotlib.axes._subplots.AxesSubplot object at 0x7f3a948f7e10>,\n",
              "        <matplotlib.axes._subplots.AxesSubplot object at 0x7f3a9485c310>,\n",
              "        <matplotlib.axes._subplots.AxesSubplot object at 0x7f3a94812910>],\n",
              "       [<matplotlib.axes._subplots.AxesSubplot object at 0x7f3a947c7b50>,\n",
              "        <matplotlib.axes._subplots.AxesSubplot object at 0x7f3a9478e590>,\n",
              "        <matplotlib.axes._subplots.AxesSubplot object at 0x7f3a94743b90>],\n",
              "       [<matplotlib.axes._subplots.AxesSubplot object at 0x7f3a947051d0>,\n",
              "        <matplotlib.axes._subplots.AxesSubplot object at 0x7f3a9473d750>,\n",
              "        <matplotlib.axes._subplots.AxesSubplot object at 0x7f3a946c77d0>]],\n",
              "      dtype=object)"
            ]
          },
          "metadata": {},
          "execution_count": 6
        },
        {
          "output_type": "display_data",
          "data": {
            "text/plain": [
              "<Figure size 432x288 with 9 Axes>"
            ],
            "image/png": "[encoded data removed]"
          },
          "metadata": {
            "needs_background": "light"
          }
        }
      ]
    },
    {
      "cell_type": "code",
      "source": [
        "# Duration-in-month\n",
        "df.hist(column='Duration-in-month')"
      ],
      "metadata": {
        "colab": {
          "base_uri": "https://localhost:8080/",
          "height": 316
        },
        "id": "MNg0RrdQ9JZS",
        "outputId": "c3e67bfa-f9b1-47fe-f453-a97bbea05c60"
      },
      "execution_count": null,
      "outputs": [
        {
          "output_type": "execute_result",
          "data": {
            "text/plain": [
              "array([[<matplotlib.axes._subplots.AxesSubplot object at 0x7f3a944f6510>]],\n",
              "      dtype=object)"
            ]
          },
          "metadata": {},
          "execution_count": 7
        },
        {
          "output_type": "display_data",
          "data": {
            "text/plain": [
              "<Figure size 432x288 with 1 Axes>"
            ],
            "image/png": "[encoded data removed]"
          },
          "metadata": {
            "needs_background": "light"
          }
        }
      ]
    },
    {
      "cell_type": "code",
      "source": [
        "# Credit-amount\n",
        "df.hist(column='Credit-amount')"
      ],
      "metadata": {
        "colab": {
          "base_uri": "https://localhost:8080/",
          "height": 316
        },
        "id": "hhnXn76t-Nco",
        "outputId": "7af08b7e-e96f-4710-a235-b4f2b30b266c"
      },
      "execution_count": null,
      "outputs": [
        {
          "output_type": "execute_result",
          "data": {
            "text/plain": [
              "array([[<matplotlib.axes._subplots.AxesSubplot object at 0x7f3a93f97510>]],\n",
              "      dtype=object)"
            ]
          },
          "metadata": {},
          "execution_count": 8
        },
        {
          "output_type": "display_data",
          "data": {
            "text/plain": [
              "<Figure size 432x288 with 1 Axes>"
            ],
            "image/png": "[encoded data removed]"
          },
          "metadata": {
            "needs_background": "light"
          }
        }
      ]
    },
    {
      "cell_type": "code",
      "source": [
        "# Installment-rate-in-percentage-of-disposable income\n",
        "df.hist(column='Installment-rate-in-percentage-of-disposable income')"
      ],
      "metadata": {
        "colab": {
          "base_uri": "https://localhost:8080/",
          "height": 316
        },
        "id": "gMV0KlLT-Z7p",
        "outputId": "6ca1f337-acea-4643-b7c5-22ec3794ba4b"
      },
      "execution_count": null,
      "outputs": [
        {
          "output_type": "execute_result",
          "data": {
            "text/plain": [
              "array([[<matplotlib.axes._subplots.AxesSubplot object at 0x7f3a93f27610>]],\n",
              "      dtype=object)"
            ]
          },
          "metadata": {},
          "execution_count": 9
        },
        {
          "output_type": "display_data",
          "data": {
            "text/plain": [
              "<Figure size 432x288 with 1 Axes>"
            ],
            "image/png": "[encoded data removed]"
          },
          "metadata": {
            "needs_background": "light"
          }
        }
      ]
    },
    {
      "cell_type": "code",
      "source": [
        "# Present-residence-since\n",
        "df.hist(column='Present-residence-since')"
      ],
      "metadata": {
        "colab": {
          "base_uri": "https://localhost:8080/",
          "height": 316
        },
        "id": "8XnYNKPj-acc",
        "outputId": "d37edc1f-7b0f-4e7b-b27f-8a7109d226a9"
      },
      "execution_count": null,
      "outputs": [
        {
          "output_type": "execute_result",
          "data": {
            "text/plain": [
              "array([[<matplotlib.axes._subplots.AxesSubplot object at 0x7f3a93e89c10>]],\n",
              "      dtype=object)"
            ]
          },
          "metadata": {},
          "execution_count": 10
        },
        {
          "output_type": "display_data",
          "data": {
            "text/plain": [
              "<Figure size 432x288 with 1 Axes>"
            ],
            "image/png": "[encoded data removed]"
          },
          "metadata": {
            "needs_background": "light"
          }
        }
      ]
    },
    {
      "cell_type": "code",
      "source": [
        "# Age-in-years\n",
        "df.hist(column='Age-in-years')"
      ],
      "metadata": {
        "colab": {
          "base_uri": "https://localhost:8080/",
          "height": 316
        },
        "id": "7U6q-2Br-cnH",
        "outputId": "71b172f4-8278-4360-dcd5-8a1995f68909"
      },
      "execution_count": null,
      "outputs": [
        {
          "output_type": "execute_result",
          "data": {
            "text/plain": [
              "array([[<matplotlib.axes._subplots.AxesSubplot object at 0x7f3a93dd43d0>]],\n",
              "      dtype=object)"
            ]
          },
          "metadata": {},
          "execution_count": 11
        },
        {
          "output_type": "display_data",
          "data": {
            "text/plain": [
              "<Figure size 432x288 with 1 Axes>"
            ],
            "image/png": "[encoded data removed]"
          },
          "metadata": {
            "needs_background": "light"
          }
        }
      ]
    },
    {
      "cell_type": "code",
      "source": [
        "# Number-of-existing-credits-at-this-bank\n",
        "df.hist(column='Number-of-existing-credits-at-this-bank')"
      ],
      "metadata": {
        "colab": {
          "base_uri": "https://localhost:8080/",
          "height": 316
        },
        "id": "2M3lH5-A-dT3",
        "outputId": "a5a4b716-784a-4e5e-e711-9594c5893c21"
      },
      "execution_count": null,
      "outputs": [
        {
          "output_type": "execute_result",
          "data": {
            "text/plain": [
              "array([[<matplotlib.axes._subplots.AxesSubplot object at 0x7f3a93d33c50>]],\n",
              "      dtype=object)"
            ]
          },
          "metadata": {},
          "execution_count": 12
        },
        {
          "output_type": "display_data",
          "data": {
            "text/plain": [
              "<Figure size 432x288 with 1 Axes>"
            ],
            "image/png": "[encoded data removed]"
          },
          "metadata": {
            "needs_background": "light"
          }
        }
      ]
    },
    {
      "cell_type": "code",
      "source": [
        "# Number-of-people-being-liable-to-provide-maintenance for\n",
        "df.hist(column='Number-of-people-being-liable-to-provide-maintenance for')"
      ],
      "metadata": {
        "colab": {
          "base_uri": "https://localhost:8080/",
          "height": 316
        },
        "id": "wzGFqlQ2-dq8",
        "outputId": "7a8d5744-b354-4027-eb01-84ee15586a10"
      },
      "execution_count": null,
      "outputs": [
        {
          "output_type": "execute_result",
          "data": {
            "text/plain": [
              "array([[<matplotlib.axes._subplots.AxesSubplot object at 0x7f3a93ccc210>]],\n",
              "      dtype=object)"
            ]
          },
          "metadata": {},
          "execution_count": 13
        },
        {
          "output_type": "display_data",
          "data": {
            "text/plain": [
              "<Figure size 432x288 with 1 Axes>"
            ],
            "image/png": "[encoded data removed]"
          },
          "metadata": {
            "needs_background": "light"
          }
        }
      ]
    },
    {
      "cell_type": "code",
      "source": [
        "# Class\n",
        "df.hist(column='Class')"
      ],
      "metadata": {
        "colab": {
          "base_uri": "https://localhost:8080/",
          "height": 316
        },
        "id": "LtWUY0Op-c9D",
        "outputId": "6d85b9d1-acef-42e8-c9e8-3e4d768ad309"
      },
      "execution_count": null,
      "outputs": [
        {
          "output_type": "execute_result",
          "data": {
            "text/plain": [
              "array([[<matplotlib.axes._subplots.AxesSubplot object at 0x7f3a944ebd10>]],\n",
              "      dtype=object)"
            ]
          },
          "metadata": {},
          "execution_count": 14
        },
        {
          "output_type": "display_data",
          "data": {
            "text/plain": [
              "<Figure size 432x288 with 1 Axes>"
            ],
            "image/png": "[encoded data removed]"
          },
          "metadata": {
            "needs_background": "light"
          }
        }
      ]
    },
    {
      "cell_type": "markdown",
      "source": [
        "# **Central Tendencies**\n",
        "Menjelaskan semua atribut secara *central tendencies* (Mean, Median, dan Modus). Semua atribut dicari *central tendencies*-nya namun disini hanya menampilkan hasil *central tendencies* data bertipe numerik, yaitu:\n",
        "* Duration-in-month, \n",
        " - memiliki mean : 20.903, modus : 24, dan median : 18.\n",
        "* Credit-amount, \n",
        " - memiliki mean : 3271.258, median : 2319.5, dan  modus : 1258, 1262, 1275, 1393, 1478 (nilai modus sama).\n",
        "* Installment-rate-in-percentage-of-disposable income, \n",
        " - memiliki mean : 2,973, modus : 4, dan median : 3.\n",
        "* Present-residence-since, \n",
        " - memiliki mean : 2.845, modus : 4, dan median : 3.\n",
        "* Age-in-years, \n",
        " - memiliki mean : 35.546, modus : 27, dan median : 33.\n",
        "* Number-of-existing-credits-at-this-bank, \n",
        " - memiliki mean : 1.407, modus : 1, dan median : 1.\n",
        "* Number-of-people-being-liable-to-provide-maintenance for, \n",
        " - memiliki mean : 1.155, modus : 1, dan median : 1.\n",
        "* Class, \n",
        " - memiliki mean : 1.3, modus : 1, dan median : 1.\n"
      ],
      "metadata": {
        "id": "zrAMVubHDB-C"
      }
    },
    {
      "cell_type": "markdown",
      "source": [
        "## Tipe data numerik"
      ],
      "metadata": {
        "id": "ljRCg30GK0_F"
      }
    },
    {
      "cell_type": "code",
      "source": [
        "# Duration-in-month\n",
        "print(\"mean :\", st.mean(df['Duration-in-month']))\n",
        "print(\"modus :\", st.mode(df['Duration-in-month']))\n",
        "print(\"median :\", st.median(df['Duration-in-month']))"
      ],
      "metadata": {
        "colab": {
          "base_uri": "https://localhost:8080/"
        },
        "id": "gQmDOLzfYJa3",
        "outputId": "2fc22aa3-4de7-4985-df87-3e3b8d49fafd"
      },
      "execution_count": null,
      "outputs": [
        {
          "output_type": "stream",
          "name": "stdout",
          "text": [
            "mean : 20.903\n",
            "modus : 24\n",
            "median : 18.0\n"
          ]
        }
      ]
    },
    {
      "cell_type": "code",
      "source": [
        "# Credit-amount\n",
        "print(\"mean :\", st.mean(df['Credit-amount']))\n",
        "#print(\"modus :\", st.mode(df['Credit-amount'])) # Terdapat 5 data dengan nilai modus sama\n",
        "print(\"median :\", st.median(df['Credit-amount']))\n",
        "\n",
        "# Karena hasil untuk modus tidak muncul, maka coba pakai syntax lain\n",
        "print (\"\")\n",
        "print (\"modus :\", df['Credit-amount'].mode())"
      ],
      "metadata": {
        "colab": {
          "base_uri": "https://localhost:8080/"
        },
        "id": "Wf2M5M-XDW3h",
        "outputId": "1e43247b-3971-44cb-c115-eb8f08a149b8"
      },
      "execution_count": null,
      "outputs": [
        {
          "output_type": "stream",
          "name": "stdout",
          "text": [
            "mean : 3271.258\n",
            "median : 2319.5\n",
            "\n",
            "modus : 0    1258\n",
            "1    1262\n",
            "2    1275\n",
            "3    1393\n",
            "4    1478\n",
            "dtype: int64\n"
          ]
        }
      ]
    },
    {
      "cell_type": "code",
      "source": [
        "# Installment-rate-in-percentage-of-disposable income\n",
        "print(\"mean :\", st.mean(df['Installment-rate-in-percentage-of-disposable income']))\n",
        "print(\"modus :\", st.mode(df['Installment-rate-in-percentage-of-disposable income']))\n",
        "print(\"median :\", st.median(df['Installment-rate-in-percentage-of-disposable income']))"
      ],
      "metadata": {
        "colab": {
          "base_uri": "https://localhost:8080/"
        },
        "id": "XCruUGJJEqbt",
        "outputId": "e6d91c50-631d-4aa7-dd05-3bc36ac2867f"
      },
      "execution_count": null,
      "outputs": [
        {
          "output_type": "stream",
          "name": "stdout",
          "text": [
            "mean : 2.973\n",
            "modus : 4\n",
            "median : 3.0\n"
          ]
        }
      ]
    },
    {
      "cell_type": "code",
      "source": [
        "# Present-residence-since\n",
        "print(\"mean :\", st.mean(df['Present-residence-since']))\n",
        "print(\"modus :\", st.mode(df['Present-residence-since']))\n",
        "print(\"median :\", st.median(df['Present-residence-since']))"
      ],
      "metadata": {
        "colab": {
          "base_uri": "https://localhost:8080/"
        },
        "id": "_r0omDcVLvNk",
        "outputId": "1e74d429-497e-4967-8f60-07ca7f6d50b9"
      },
      "execution_count": null,
      "outputs": [
        {
          "output_type": "stream",
          "name": "stdout",
          "text": [
            "mean : 2.845\n",
            "modus : 4\n",
            "median : 3.0\n"
          ]
        }
      ]
    },
    {
      "cell_type": "code",
      "source": [
        "# Age-in-years\n",
        "print(\"mean :\", st.mean(df['Age-in-years']))\n",
        "print(\"modus :\", st.mode(df['Age-in-years']))\n",
        "print(\"median :\", st.median(df['Age-in-years']))"
      ],
      "metadata": {
        "colab": {
          "base_uri": "https://localhost:8080/"
        },
        "id": "1p5idY-NMCcR",
        "outputId": "996a4096-d0ef-4e05-e796-13cdf068ae9f"
      },
      "execution_count": null,
      "outputs": [
        {
          "output_type": "stream",
          "name": "stdout",
          "text": [
            "mean : 35.546\n",
            "modus : 27\n",
            "median : 33.0\n"
          ]
        }
      ]
    },
    {
      "cell_type": "code",
      "source": [
        "# Number-of-existing-credits-at-this-bank\n",
        "print(\"mean :\", st.mean(df['Number-of-existing-credits-at-this-bank']))\n",
        "print(\"modus :\", st.mode(df['Number-of-existing-credits-at-this-bank']))\n",
        "print(\"median :\", st.median(df['Number-of-existing-credits-at-this-bank']))"
      ],
      "metadata": {
        "colab": {
          "base_uri": "https://localhost:8080/"
        },
        "id": "2ztLbtO9MDBp",
        "outputId": "04eef2aa-c847-44f3-cfb0-4e9339ec9fb3"
      },
      "execution_count": null,
      "outputs": [
        {
          "output_type": "stream",
          "name": "stdout",
          "text": [
            "mean : 1.407\n",
            "modus : 1\n",
            "median : 1.0\n"
          ]
        }
      ]
    },
    {
      "cell_type": "code",
      "source": [
        "# Number-of-people-being-liable-to-provide-maintenance for\n",
        "print(\"mean :\", st.mean(df['Number-of-people-being-liable-to-provide-maintenance for']))\n",
        "print(\"modus :\", st.mode(df['Number-of-people-being-liable-to-provide-maintenance for']))\n",
        "print(\"median :\", st.median(df['Number-of-people-being-liable-to-provide-maintenance for']))"
      ],
      "metadata": {
        "colab": {
          "base_uri": "https://localhost:8080/"
        },
        "id": "5JbB9FFAMMMY",
        "outputId": "383bbe18-f9dd-44de-b0e5-6ff27bc49c5f"
      },
      "execution_count": null,
      "outputs": [
        {
          "output_type": "stream",
          "name": "stdout",
          "text": [
            "mean : 1.155\n",
            "modus : 1\n",
            "median : 1.0\n"
          ]
        }
      ]
    },
    {
      "cell_type": "code",
      "source": [
        "# Class\n",
        "print(\"mean :\", st.mean(df['Class']))\n",
        "print(\"modus :\", st.mode(df['Class']))\n",
        "print(\"median :\", st.median(df['Class']))"
      ],
      "metadata": {
        "colab": {
          "base_uri": "https://localhost:8080/"
        },
        "id": "mrrscRCrMRdM",
        "outputId": "277b891e-ff2a-47e5-e095-fde39706281c"
      },
      "execution_count": null,
      "outputs": [
        {
          "output_type": "stream",
          "name": "stdout",
          "text": [
            "mean : 1.3\n",
            "modus : 1\n",
            "median : 1.0\n"
          ]
        }
      ]
    },
    {
      "cell_type": "markdown",
      "source": [
        "## TIpe data kategorik"
      ],
      "metadata": {
        "id": "7j5j3HpNK6zW"
      }
    },
    {
      "cell_type": "code",
      "source": [
        "# Status-of-existing-checking-account\n",
        "print(\"modus dari Status-of-existing-checking-account :\", df['Status-of-existing-checking-account'].mode())"
      ],
      "metadata": {
        "colab": {
          "base_uri": "https://localhost:8080/"
        },
        "id": "WvJm1ClHPuJ_",
        "outputId": "8763e138-58b3-4645-dafc-61ecf3ce2d7c"
      },
      "execution_count": null,
      "outputs": [
        {
          "output_type": "stream",
          "name": "stdout",
          "text": [
            "modus dari Status-of-existing-checking-account : 0    A14\n",
            "dtype: object\n"
          ]
        }
      ]
    },
    {
      "cell_type": "code",
      "source": [
        "# Credit-history\n",
        "print(\"modus dari Credit-history :\", df['Credit-history'].mode())"
      ],
      "metadata": {
        "colab": {
          "base_uri": "https://localhost:8080/"
        },
        "id": "52s5LQLNaBOh",
        "outputId": "db307083-ccb0-4177-c45f-eb1fcf23ba7c"
      },
      "execution_count": null,
      "outputs": [
        {
          "output_type": "stream",
          "name": "stdout",
          "text": [
            "modus dari Credit-history : 0    A32\n",
            "dtype: object\n"
          ]
        }
      ]
    },
    {
      "cell_type": "code",
      "source": [
        "# Savings-account/bonds\n",
        "print(\"modus dari Savings-account/bonds :\", df['Savings-account/bonds'].mode())"
      ],
      "metadata": {
        "colab": {
          "base_uri": "https://localhost:8080/"
        },
        "id": "iScbkABIaECv",
        "outputId": "a2619f1f-b667-4a4c-85ea-fae7ec271584"
      },
      "execution_count": null,
      "outputs": [
        {
          "output_type": "stream",
          "name": "stdout",
          "text": [
            "modus dari Savings-account/bonds : 0    A61\n",
            "dtype: object\n"
          ]
        }
      ]
    },
    {
      "cell_type": "code",
      "source": [
        "# Present-employment-since\n",
        "print(\"modus dari Present-employment-since :\", df['Present-employment-since'].mode())"
      ],
      "metadata": {
        "colab": {
          "base_uri": "https://localhost:8080/"
        },
        "id": "lVcmqjctaEpA",
        "outputId": "33c33740-565d-4467-f0d0-980fb090c72a"
      },
      "execution_count": null,
      "outputs": [
        {
          "output_type": "stream",
          "name": "stdout",
          "text": [
            "modus dari Present-employment-since : 0    A73\n",
            "dtype: object\n"
          ]
        }
      ]
    },
    {
      "cell_type": "code",
      "source": [
        "# Personal-status-and-sex\n",
        "print(\"modus dari Personal-status-and-sex :\", df['Personal-status-and-sex'].mode())"
      ],
      "metadata": {
        "colab": {
          "base_uri": "https://localhost:8080/"
        },
        "id": "0YWq5ROxaFWl",
        "outputId": "901b3fdc-3f54-45b7-ee18-57ab145eccd5"
      },
      "execution_count": null,
      "outputs": [
        {
          "output_type": "stream",
          "name": "stdout",
          "text": [
            "modus dari Personal-status-and-sex : 0    A93\n",
            "dtype: object\n"
          ]
        }
      ]
    },
    {
      "cell_type": "code",
      "source": [
        "# Other-debtors/guarantors\n",
        "print(\"modus dari Other-debtors/guarantors :\", df['Other-debtors/guarantors'].mode())"
      ],
      "metadata": {
        "colab": {
          "base_uri": "https://localhost:8080/"
        },
        "id": "_aiJpUSNaLGk",
        "outputId": "0a963b68-dfae-4634-d58f-9f7b7de4b20f"
      },
      "execution_count": null,
      "outputs": [
        {
          "output_type": "stream",
          "name": "stdout",
          "text": [
            "modus dari Other-debtors/guarantors : 0    A101\n",
            "dtype: object\n"
          ]
        }
      ]
    },
    {
      "cell_type": "code",
      "source": [
        "# Property\n",
        "print(\"modus dari Property :\", df['Property'].mode())"
      ],
      "metadata": {
        "colab": {
          "base_uri": "https://localhost:8080/"
        },
        "id": "XTdiO4SJaL3O",
        "outputId": "9075513d-ab89-41be-ca80-c3e150f79855"
      },
      "execution_count": null,
      "outputs": [
        {
          "output_type": "stream",
          "name": "stdout",
          "text": [
            "modus dari Property : 0    A123\n",
            "dtype: object\n"
          ]
        }
      ]
    },
    {
      "cell_type": "code",
      "source": [
        "# Other-installment-plans\n",
        "print(\"modus dari Other-installment-plans :\", df['Other-installment-plans'].mode())"
      ],
      "metadata": {
        "colab": {
          "base_uri": "https://localhost:8080/"
        },
        "id": "o0Yo0LFpaM-K",
        "outputId": "fe2a47a0-a59d-4804-b229-0a95c170cc75"
      },
      "execution_count": null,
      "outputs": [
        {
          "output_type": "stream",
          "name": "stdout",
          "text": [
            "modus dari Other-installment-plans : 0    A143\n",
            "dtype: object\n"
          ]
        }
      ]
    },
    {
      "cell_type": "code",
      "source": [
        "# Housing\n",
        "print(\"modus dari Housing :\", df['Housing'].mode())"
      ],
      "metadata": {
        "colab": {
          "base_uri": "https://localhost:8080/"
        },
        "id": "vYRfgV_faMpq",
        "outputId": "5cd71a8d-f7c3-4663-dfa0-457939522503"
      },
      "execution_count": null,
      "outputs": [
        {
          "output_type": "stream",
          "name": "stdout",
          "text": [
            "modus dari Housing : 0    A152\n",
            "dtype: object\n"
          ]
        }
      ]
    },
    {
      "cell_type": "code",
      "source": [
        "# Job\n",
        "print(\"modus dari Job :\", df['Job'].mode())"
      ],
      "metadata": {
        "colab": {
          "base_uri": "https://localhost:8080/"
        },
        "id": "KDz9h36IaWi0",
        "outputId": "a922f5fd-2044-4df4-985d-8834c47e9ed5"
      },
      "execution_count": null,
      "outputs": [
        {
          "output_type": "stream",
          "name": "stdout",
          "text": [
            "modus dari Job : 0    A173\n",
            "dtype: object\n"
          ]
        }
      ]
    },
    {
      "cell_type": "code",
      "source": [
        "# Telephone\n",
        "print(\"modus dari Telephone :\", df['Telephone'].mode())"
      ],
      "metadata": {
        "colab": {
          "base_uri": "https://localhost:8080/"
        },
        "id": "dySGQpE8aZLB",
        "outputId": "64953838-f060-4318-8792-f8796aaa9c5d"
      },
      "execution_count": null,
      "outputs": [
        {
          "output_type": "stream",
          "name": "stdout",
          "text": [
            "modus dari Telephone : 0    A191\n",
            "dtype: object\n"
          ]
        }
      ]
    },
    {
      "cell_type": "code",
      "source": [
        "# Foreign-worker\n",
        "print(\"modus dari Foreign-worker :\", df['Foreign-worker'].mode())"
      ],
      "metadata": {
        "colab": {
          "base_uri": "https://localhost:8080/"
        },
        "id": "k9kurS2faX0U",
        "outputId": "2ce46225-edfb-4d18-9f14-ca0799b95042"
      },
      "execution_count": null,
      "outputs": [
        {
          "output_type": "stream",
          "name": "stdout",
          "text": [
            "modus dari Foreign-worker : 0    A201\n",
            "dtype: object\n"
          ]
        }
      ]
    },
    {
      "cell_type": "markdown",
      "source": [
        "# **Menilai Kualitas Data**\n",
        "\n",
        "Menilai kualitas data memerlukan pemeriksaan karakteristiknya dan kemudian menimbang karakteristik tersebut sesuai dengan apa yang paling penting bagi organisasi dan aplikasi yang digunakan.\n",
        "\n",
        "- Lengkap (Complete)\n",
        "\n",
        "Dataset tersebut lengkap (tidak memiliki *missing value*). Data tidak lengkap sama berbahayanya dengan data yang tidak akurat. \n",
        "\n",
        "- Kredibilitas\n",
        "\n",
        "Dataset tersebut memiliki kredibilitas tinggi karena disediakan oleh salah satu profesor dari Universitas Hamburg."
      ],
      "metadata": {
        "id": "XHweinbUUDdH"
      }
    },
    {
      "cell_type": "markdown",
      "source": [
        "## **Mengecek Missing Value**"
      ],
      "metadata": {
        "id": "w1qb-NLeaVOL"
      }
    },
    {
      "cell_type": "code",
      "source": [
        "# Mengecek apakah terdapat atribut yang memiliki missing value\n",
        "print(df.isnull().sum())"
      ],
      "metadata": {
        "colab": {
          "base_uri": "https://localhost:8080/"
        },
        "id": "r4DiHIkjTvVi",
        "outputId": "0aedde20-8a51-4ed1-e9a5-096015593d39"
      },
      "execution_count": null,
      "outputs": [
        {
          "output_type": "stream",
          "name": "stdout",
          "text": [
            "Status-of-existing-checking-account                         0\n",
            "Duration-in-month                                           0\n",
            "Credit-history                                              0\n",
            "Purpose                                                     0\n",
            "Credit-amount                                               0\n",
            "Savings-account/bonds                                       0\n",
            "Present-employment-since                                    0\n",
            "Installment-rate-in-percentage-of-disposable income         0\n",
            "Personal-status-and-sex                                     0\n",
            "Other-debtors/guarantors                                    0\n",
            "Present-residence-since                                     0\n",
            "Property                                                    0\n",
            "Age-in-years                                                0\n",
            "Other-installment-plans                                     0\n",
            "Housing                                                     0\n",
            "Number-of-existing-credits-at-this-bank                     0\n",
            "Job                                                         0\n",
            "Number-of-people-being-liable-to-provide-maintenance for    0\n",
            "Telephone                                                   0\n",
            "Foreign-worker                                              0\n",
            "Class                                                       0\n",
            "dtype: int64\n"
          ]
        }
      ]
    },
    {
      "cell_type": "markdown",
      "source": [
        "## **Outlier**\n",
        "Pengertian dari **Outlier** adalah data observasi yang muncul dengan nilai-nilai ekstrim, baik secara univariat ataupun multivariat. Yang dimaksud dengan nilai-nilai ekstrim dalam observasi adalah nilai yang jauh atau beda sama sekali dengan sebagian besar nilai lain dalam kelompoknya.\n",
        "\n",
        "Cara mendeteksi **Outlier** adalah dengan melihat jarak antara rata-rata dan median sekelompok data tersebut. Semakin jauh jarak antara rata-rata dan mediannya maka semakin besar kemungkinan adanya outlier dalam sekelompok data tersebut.\n",
        "\n",
        "Berdasarkan pengertian Outlier diatas, pada dataset ini salah satu atribut yang memiliki outlier menurut saya adalah atribut `Credit-amount` dan `Age-in-years`, karena memiliki jarak antara rata-rata dan median yang terbilang besar."
      ],
      "metadata": {
        "id": "UJEHsfC6x5m9"
      }
    },
    {
      "cell_type": "code",
      "source": [
        "df.hist(column='Credit-amount')"
      ],
      "metadata": {
        "colab": {
          "base_uri": "https://localhost:8080/",
          "height": 316
        },
        "id": "HeGmTvYl_Hub",
        "outputId": "ce44c9f7-6219-494b-b361-6aae46816969"
      },
      "execution_count": null,
      "outputs": [
        {
          "output_type": "execute_result",
          "data": {
            "text/plain": [
              "array([[<matplotlib.axes._subplots.AxesSubplot object at 0x7f3a93b832d0>]],\n",
              "      dtype=object)"
            ]
          },
          "metadata": {},
          "execution_count": 37
        },
        {
          "output_type": "display_data",
          "data": {
            "text/plain": [
              "<Figure size 432x288 with 1 Axes>"
            ],
            "image/png": "[encoded data removed]"
          },
          "metadata": {
            "needs_background": "light"
          }
        }
      ]
    },
    {
      "cell_type": "code",
      "source": [
        "df.hist(column='Age-in-years')"
      ],
      "metadata": {
        "colab": {
          "base_uri": "https://localhost:8080/",
          "height": 316
        },
        "id": "uooSc-yB2c3j",
        "outputId": "8ee808c4-b9c5-4a05-bd1e-72e17fb2b6ae"
      },
      "execution_count": null,
      "outputs": [
        {
          "output_type": "execute_result",
          "data": {
            "text/plain": [
              "array([[<matplotlib.axes._subplots.AxesSubplot object at 0x7f3a938fcb90>]],\n",
              "      dtype=object)"
            ]
          },
          "metadata": {},
          "execution_count": 39
        },
        {
          "output_type": "display_data",
          "data": {
            "text/plain": [
              "<Figure size 432x288 with 1 Axes>"
            ],
            "image/png": "[encoded data removed]"
          },
          "metadata": {
            "needs_background": "light"
          }
        }
      ]
    },
    {
      "cell_type": "markdown",
      "source": [
        "# **Klasifikasi**\n",
        "Dilakukan klasifikasi dengan metode KNN (K-Nearest Neighbors) dan Naive Bayes. \n",
        "\n",
        "- Langkah pertama yang dilakukan adalah mengubah tipe data semua atribut menjadi numerik.\n",
        "- Kemudian dilakukan pembagian dataset, dataset dibagi menjadi data training dan data testing. Komposisi **75% data training** dan **25% data testing**.\n",
        "- Tahap testing dengan metode KNN dan Naive Bayes.\n",
        "- Mencari nilai akurasi dengan confusion metrics.\n",
        "\n",
        "Hasil klasifikasi didapatkan nilai akurasi sebesar **67,6%** untuk KNN dan **72%** untuk Naive Bayes.\n",
        "\n"
      ],
      "metadata": {
        "id": "XWVvTEPETTyZ"
      }
    },
    {
      "cell_type": "code",
      "source": [
        "#x = df[['Status-of-existing-checking-account', 'Duration-in-month', 'Credit-history', 'Purpose', 'Credit-amount', 'Savings-account/bonds', 'Present-employment-since', 'Installment-rate-in-percentage-of-disposable income', 'Personal-status-and-sex', 'Other-debtors/guarantors', 'Present-residence-since', 'Property', 'Age-in-years', 'Other-installment-plans' , 'Housing' , 'Number-of-existing-credits-at-this-bank' , 'Job' , 'Number-of-people-being-liable-to-provide-maintenance for', 'Telephone' , 'Foreign-worker']] .values\n",
        "x = df.iloc[:, :-1] .values # menggambil data dari kolom 1-20\n",
        "y = df.iloc[:, 20] .values # menggambil data kolom ke-21"
      ],
      "metadata": {
        "id": "BDMy_vV0Bpzd"
      },
      "execution_count": null,
      "outputs": []
    },
    {
      "cell_type": "code",
      "source": [
        "# menampilkan semua data array x\n",
        "x"
      ],
      "metadata": {
        "colab": {
          "base_uri": "https://localhost:8080/"
        },
        "id": "z08gHyRtFJTA",
        "outputId": "89d26d62-c7cd-4d29-a0de-90bb4ac98ed7"
      },
      "execution_count": null,
      "outputs": [
        {
          "output_type": "execute_result",
          "data": {
            "text/plain": [
              "array([['A11', 6, 'A34', ..., 1, 'A192', 'A201'],\n",
              "       ['A12', 48, 'A32', ..., 1, 'A191', 'A201'],\n",
              "       ['A14', 12, 'A34', ..., 2, 'A191', 'A201'],\n",
              "       ...,\n",
              "       ['A14', 12, 'A32', ..., 1, 'A191', 'A201'],\n",
              "       ['A11', 45, 'A32', ..., 1, 'A192', 'A201'],\n",
              "       ['A12', 45, 'A34', ..., 1, 'A191', 'A201']], dtype=object)"
            ]
          },
          "metadata": {},
          "execution_count": 41
        }
      ]
    },
    {
      "cell_type": "code",
      "source": [
        "# menampilkan beberapa baris pertama data array y\n",
        "y[0:20]"
      ],
      "metadata": {
        "colab": {
          "base_uri": "https://localhost:8080/"
        },
        "id": "lOuoQzWgFLBg",
        "outputId": "aacbd8a4-38a1-41ad-8dfb-689100f80a83"
      },
      "execution_count": null,
      "outputs": [
        {
          "output_type": "execute_result",
          "data": {
            "text/plain": [
              "array([1, 2, 1, 1, 2, 1, 1, 1, 1, 2, 2, 2, 1, 2, 1, 2, 1, 1, 2, 1])"
            ]
          },
          "metadata": {},
          "execution_count": 42
        }
      ]
    },
    {
      "cell_type": "code",
      "source": [
        "# mengubah type data menjadi numerik\n",
        "from sklearn import preprocessing\n",
        "\n",
        "x_new = x\n",
        "le = preprocessing.LabelEncoder()\n",
        "x_new[:, 0] = le.fit_transform(x[:, 0]) \n",
        "x_new[:, 2] = le.fit_transform(x[:, 2])\n",
        "x_new[:, 3] = le.fit_transform(x[:, 3])\n",
        "x_new[:, 5] = le.fit_transform(x[:, 5])\n",
        "x_new[:, 6] = le.fit_transform(x[:, 6])\n",
        "x_new[:, 8] = le.fit_transform(x[:, 8])\n",
        "x_new[:, 9] = le.fit_transform(x[:, 9])\n",
        "x_new[:, 11] = le.fit_transform(x[:, 11])\n",
        "x_new[:, 13] = le.fit_transform(x[:, 13])\n",
        "x_new[:, 14] = le.fit_transform(x[:, 14])\n",
        "x_new[:, 16] = le.fit_transform(x[:, 16])\n",
        "x_new[:, 18] = le.fit_transform(x[:, 18])\n",
        "x_new[:, 19] = le.fit_transform(x[:, 19])"
      ],
      "metadata": {
        "id": "j3i94yM5eUPq"
      },
      "execution_count": null,
      "outputs": []
    },
    {
      "cell_type": "code",
      "source": [
        "x_new[0:3]"
      ],
      "metadata": {
        "colab": {
          "base_uri": "https://localhost:8080/"
        },
        "id": "L3O-GhabOEXO",
        "outputId": "ffe01447-f711-4ae9-9c40-df402282ef73"
      },
      "execution_count": null,
      "outputs": [
        {
          "output_type": "execute_result",
          "data": {
            "text/plain": [
              "array([[0, 6, 4, 4, 1169, 4, 4, 4, 2, 0, 4, 0, 67, 2, 1, 2, 2, 1, 1, 0],\n",
              "       [1, 48, 2, 4, 5951, 0, 2, 2, 1, 0, 2, 0, 22, 2, 1, 1, 2, 1, 0, 0],\n",
              "       [3, 12, 4, 7, 2096, 0, 3, 2, 2, 0, 3, 0, 49, 2, 1, 1, 1, 2, 0, 0]],\n",
              "      dtype=object)"
            ]
          },
          "metadata": {},
          "execution_count": 44
        }
      ]
    },
    {
      "cell_type": "markdown",
      "source": [
        "### Membagi dataset menjadi data traning dan data testing dengan komposisi sebesar **75% data training dan 25% data testing**."
      ],
      "metadata": {
        "id": "KZfCspQWWMLm"
      }
    },
    {
      "cell_type": "code",
      "source": [
        "from sklearn.model_selection import train_test_split\n",
        "\n",
        "# membagi dataset menjadi data traning dan data testing dengan komposisi sebesar 75% data training dan 25% data testing\n",
        "x_train, x_test, y_train, y_test = train_test_split(x_new,y, test_size=0.25, random_state=0) # 75% untuk train dan 25% untuk test\n",
        "print ('Train set :', x_train.shape, y_train.shape)\n",
        "print ('Test set :', x_test.shape, y_test.shape)"
      ],
      "metadata": {
        "id": "2E9_0Y0JQOj1",
        "colab": {
          "base_uri": "https://localhost:8080/"
        },
        "outputId": "c94f3857-7536-4f43-c022-4ec0ca614ef8"
      },
      "execution_count": null,
      "outputs": [
        {
          "output_type": "stream",
          "name": "stdout",
          "text": [
            "Train set : (750, 20) (750,)\n",
            "Test set : (250, 20) (250,)\n"
          ]
        }
      ]
    },
    {
      "cell_type": "markdown",
      "source": [
        "## KNN (K-Nearest Neighbor)"
      ],
      "metadata": {
        "id": "661-xjQKWoqb"
      }
    },
    {
      "cell_type": "code",
      "source": [
        "# Import library \n",
        "from sklearn.neighbors import KNeighborsClassifier # classifier K-Nearest Neighbors\n",
        "from sklearn import metrics # Perhitungan akurasi dengan metrics\n",
        "from sklearn.metrics import confusion_matrix # Ukur performance menggunakan confusion matrix"
      ],
      "metadata": {
        "id": "JuTSrC7GWt_A"
      },
      "execution_count": null,
      "outputs": []
    },
    {
      "cell_type": "code",
      "source": [
        "# Menentukan nilai k = 4\n",
        "k = 4\n",
        "knn = KNeighborsClassifier(n_neighbors = k).fit(x_train, y_train)\n",
        "knn"
      ],
      "metadata": {
        "colab": {
          "base_uri": "https://localhost:8080/"
        },
        "id": "INhLhThCXFa6",
        "outputId": "55577223-7fa5-4af1-c2ca-c25efc1bfad6"
      },
      "execution_count": null,
      "outputs": [
        {
          "output_type": "execute_result",
          "data": {
            "text/plain": [
              "KNeighborsClassifier(n_neighbors=4)"
            ]
          },
          "metadata": {},
          "execution_count": 47
        }
      ]
    },
    {
      "cell_type": "code",
      "source": [
        "# Memprediksi data\n",
        "knn.predict(x_test)"
      ],
      "metadata": {
        "colab": {
          "base_uri": "https://localhost:8080/"
        },
        "id": "P97FGpvEZRB8",
        "outputId": "91cc3be8-ce49-4b02-a287-1ef3b2bf6c77"
      },
      "execution_count": null,
      "outputs": [
        {
          "output_type": "execute_result",
          "data": {
            "text/plain": [
              "array([1, 1, 1, 1, 1, 1, 1, 1, 1, 1, 1, 1, 2, 1, 1, 1, 1, 1, 1, 1, 1, 2,\n",
              "       1, 1, 1, 1, 1, 2, 1, 1, 1, 1, 1, 2, 1, 2, 1, 1, 1, 1, 1, 1, 1, 1,\n",
              "       1, 1, 2, 1, 1, 1, 1, 1, 1, 1, 1, 1, 2, 1, 1, 1, 1, 1, 1, 1, 1, 1,\n",
              "       1, 1, 1, 1, 1, 1, 1, 1, 1, 1, 1, 1, 1, 1, 1, 1, 2, 1, 1, 1, 2, 1,\n",
              "       1, 1, 1, 1, 1, 1, 1, 2, 1, 1, 1, 1, 2, 1, 1, 1, 2, 2, 1, 1, 1, 1,\n",
              "       1, 1, 1, 1, 1, 1, 1, 2, 1, 1, 2, 1, 1, 1, 1, 1, 1, 1, 2, 1, 1, 1,\n",
              "       1, 2, 1, 1, 1, 1, 1, 1, 1, 2, 1, 1, 1, 1, 2, 2, 1, 1, 1, 1, 1, 1,\n",
              "       1, 1, 1, 1, 1, 1, 1, 1, 1, 1, 1, 2, 1, 1, 1, 1, 2, 1, 1, 1, 1, 1,\n",
              "       1, 2, 1, 1, 1, 1, 1, 1, 1, 1, 1, 1, 1, 1, 1, 2, 1, 1, 1, 1, 1, 1,\n",
              "       1, 1, 1, 1, 1, 1, 1, 1, 1, 1, 1, 1, 1, 1, 1, 1, 1, 2, 1, 1, 1, 1,\n",
              "       1, 1, 1, 1, 1, 1, 2, 1, 2, 1, 1, 1, 1, 1, 1, 1, 1, 1, 1, 1, 1, 1,\n",
              "       1, 1, 1, 1, 1, 1, 1, 1])"
            ]
          },
          "metadata": {},
          "execution_count": 48
        }
      ]
    },
    {
      "cell_type": "markdown",
      "source": [
        "### Mencari Nilai Akurasi"
      ],
      "metadata": {
        "id": "j0Cg6n9OgA-B"
      }
    },
    {
      "cell_type": "code",
      "source": [
        "# mengukur performance menggunakan confusion matrix\n",
        "cm = confusion_matrix(y_test, knn.predict(x_test))\n",
        "cm"
      ],
      "metadata": {
        "colab": {
          "base_uri": "https://localhost:8080/"
        },
        "id": "HqHaS7HF7g7y",
        "outputId": "d36afb89-ee11-4b43-f902-543bf5b69883"
      },
      "execution_count": null,
      "outputs": [
        {
          "output_type": "execute_result",
          "data": {
            "text/plain": [
              "array([[159,  17],\n",
              "       [ 64,  10]])"
            ]
          },
          "metadata": {},
          "execution_count": 49
        }
      ]
    },
    {
      "cell_type": "markdown",
      "source": [
        "![alt text](https://miro.medium.com/max/1064/1*5XuZ_86Rfce3qyLt7XMlhw.png)"
      ],
      "metadata": {
        "id": "awUmqB26f0Ax"
      }
    },
    {
      "cell_type": "markdown",
      "source": [
        "berdasarkan gambar di atas nilai akurasi didapatkan dengan rumus\n",
        "\n",
        "- **Akurasi = TP + TN / TP + FP + FN + TN**\n",
        "\n",
        "      AKurasi = 169 / 250\n",
        "\n",
        "              = 0.676 atau 67,6%\n",
        "\n",
        "sehingga untuk metode Naive Bayes didapatkan akurasi sebesar **67,6%**"
      ],
      "metadata": {
        "id": "6sUZKtoqfcoy"
      }
    },
    {
      "cell_type": "code",
      "source": [
        "# Perhitungan akurasi dengan metrics\n",
        "print ('Train set akurasi:', metrics.accuracy_score(y_train, knn.predict(x_train)))\n",
        "print ('Test set akurasi:', metrics.accuracy_score(y_test, knn.predict(x_test)))"
      ],
      "metadata": {
        "colab": {
          "base_uri": "https://localhost:8080/"
        },
        "id": "2lvcA1j4Zjxv",
        "outputId": "35f1c724-232e-4389-9211-264d1b81283d"
      },
      "execution_count": null,
      "outputs": [
        {
          "output_type": "stream",
          "name": "stdout",
          "text": [
            "Train set akurasi: 0.764\n",
            "Test set akurasi: 0.676\n"
          ]
        }
      ]
    },
    {
      "cell_type": "markdown",
      "source": [
        "## Naive Bayes"
      ],
      "metadata": {
        "id": "2n_CRu9l6sHw"
      }
    },
    {
      "cell_type": "code",
      "source": [
        "from sklearn.preprocessing import StandardScaler\n",
        "\n",
        "sc = StandardScaler()\n",
        "x_train = sc.fit_transform(x_train)\n",
        "x_test = sc.fit_transform(x_test)"
      ],
      "metadata": {
        "id": "UeEAj0dzbFFo"
      },
      "execution_count": null,
      "outputs": []
    },
    {
      "cell_type": "code",
      "source": [
        "x_train"
      ],
      "metadata": {
        "colab": {
          "base_uri": "https://localhost:8080/"
        },
        "id": "PZKldrFmbnuk",
        "outputId": "d98d25b1-db88-4877-a018-e2339eaba15f"
      },
      "execution_count": null,
      "outputs": [
        {
          "output_type": "execute_result",
          "data": {
            "text/plain": [
              "array([[ 1.14180917,  0.27781426,  0.40669939, ..., -0.41678402,\n",
              "        -0.83937206, -0.19324699],\n",
              "       [ 1.14180917,  2.28934151, -1.41979487, ..., -0.41678402,\n",
              "        -0.83937206, -0.19324699],\n",
              "       [ 1.14180917, -0.72794936,  1.31994652, ..., -0.41678402,\n",
              "         1.19136679, -0.19324699],\n",
              "       ...,\n",
              "       [ 1.14180917, -0.97939026, -0.50654774, ..., -0.41678402,\n",
              "        -0.83937206, -0.19324699],\n",
              "       [-0.44550664, -0.22506755,  1.31994652, ..., -0.41678402,\n",
              "        -0.83937206, -0.19324699],\n",
              "       [-0.44550664,  1.28357788,  0.40669939, ...,  2.39932423,\n",
              "         1.19136679, -0.19324699]])"
            ]
          },
          "metadata": {},
          "execution_count": 52
        }
      ]
    },
    {
      "cell_type": "code",
      "source": [
        "from sklearn.naive_bayes import GaussianNB # classifier Naive Bayes\n",
        "\n",
        "classifier = GaussianNB()\n",
        "classifier.fit(x_train, y_train)"
      ],
      "metadata": {
        "colab": {
          "base_uri": "https://localhost:8080/"
        },
        "id": "R2FP1v5lcXqP",
        "outputId": "2f0eebdb-b3f5-4109-f6e6-17bf9e4c87e6"
      },
      "execution_count": null,
      "outputs": [
        {
          "output_type": "execute_result",
          "data": {
            "text/plain": [
              "GaussianNB()"
            ]
          },
          "metadata": {},
          "execution_count": 53
        }
      ]
    },
    {
      "cell_type": "code",
      "source": [
        "# mendeklarasikan variabel y_pred\n",
        "y_pred = classifier.predict(x_test)"
      ],
      "metadata": {
        "id": "EEO6ND_Ecrtg"
      },
      "execution_count": null,
      "outputs": []
    },
    {
      "cell_type": "markdown",
      "source": [
        "### Mencari Nilai Akurasi"
      ],
      "metadata": {
        "id": "noKR_C3Xeu3X"
      }
    },
    {
      "cell_type": "code",
      "source": [
        "# mengukur performance menggunakan confusion matrix\n",
        "cm = confusion_matrix(y_test, y_pred)\n",
        "cm"
      ],
      "metadata": {
        "colab": {
          "base_uri": "https://localhost:8080/"
        },
        "id": "44coNg_7c3El",
        "outputId": "a3d40e63-7208-4b87-e8db-90e1ac827afa"
      },
      "execution_count": null,
      "outputs": [
        {
          "output_type": "execute_result",
          "data": {
            "text/plain": [
              "array([[130,  46],\n",
              "       [ 24,  50]])"
            ]
          },
          "metadata": {},
          "execution_count": 55
        }
      ]
    },
    {
      "cell_type": "markdown",
      "source": [
        "![alt text](https://miro.medium.com/max/1064/1*5XuZ_86Rfce3qyLt7XMlhw.png)"
      ],
      "metadata": {
        "id": "l9Rtjo9NdOYJ"
      }
    },
    {
      "cell_type": "markdown",
      "source": [
        "berdasarkan gambar di atas nilai akurasi didapatkan dengan rumus \n",
        "\n",
        "- **Akurasi = TP + TN / TP + FP + FN + TN**\n",
        "\n",
        "        AKurasi = 180 / 250\n",
        "\n",
        "                = 0.72 atau 72%\n",
        "\n",
        "sehingga untuk metode Naive Bayes didapatkan akurasi sebesar **72%**"
      ],
      "metadata": {
        "id": "2-AaGag9cx2V"
      }
    },
    {
      "cell_type": "code",
      "source": [
        "# Perhitungan akurasi dengan metrics\n",
        "print ('Train set akurasi:', metrics.accuracy_score(y_train, classifier.predict(x_train)))\n",
        "print ('Test set akurasi:', metrics.accuracy_score(y_test, classifier.predict(x_test)))"
      ],
      "metadata": {
        "colab": {
          "base_uri": "https://localhost:8080/"
        },
        "id": "HRywYOn2fPmf",
        "outputId": "492db38d-371b-456d-851a-fd5e95c129fb"
      },
      "execution_count": null,
      "outputs": [
        {
          "output_type": "stream",
          "name": "stdout",
          "text": [
            "Train set akurasi: 0.7373333333333333\n",
            "Test set akurasi: 0.72\n"
          ]
        }
      ]
    }
  ]
}